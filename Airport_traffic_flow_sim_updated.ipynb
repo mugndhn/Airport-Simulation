{
 "cells": [
  {
   "cell_type": "code",
   "execution_count": 1,
   "metadata": {
    "colab": {
     "base_uri": "https://localhost:8080/"
    },
    "id": "_Z4NOemM_I57",
    "outputId": "e7836d0a-7be6-4e76-87b8-3a55089a0acc",
    "scrolled": true
   },
   "outputs": [
    {
     "name": "stdout",
     "output_type": "stream",
     "text": [
      "Requirement already satisfied: simpy in /Users/saranreddygopavaram/miniconda3/lib/python3.8/site-packages (4.0.1)\r\n"
     ]
    }
   ],
   "source": [
    "!pip install simpy\n",
    "import simpy\n",
    "import random"
   ]
  },
  {
   "cell_type": "code",
   "execution_count": 2,
   "metadata": {
    "id": "689fe904"
   },
   "outputs": [],
   "source": [
    "RANDOM_SEED = 42\n",
    "NUM_RUNWAY = 1    # Number of runway in the airport\n",
    "TAKEOFFTIME = 5   # Minutes airplane takes to take off\n",
    "LANDTIME = 6      # Minutes airplane takes to land\n",
    "DEPARTURE_INTER = 10  # Create departure airplane every 10 minutes\n",
    "LAND_INTER = 10      # Create land airplane every 10 minutes\n",
    "AIRPLANE_CAPACITY = 200 # airplane capacity is 200\n",
    "TIME_ON_GROUND = 45 #Arrival aircraft spends 45 minutes at the terminal for de-boarding and boarding (this doesn't include departure schedule)\n",
    "AIRPLANES_AT_TERMINAL = 5 #Total aircrafts present at the termianl at the start of the simulation\n",
    "AIRPLANES_SCHEDULED_TO_LAND_TODAY = 10 #Total aircrafts expected to arrive and land today at the airport\n",
    "\n",
    "\n",
    "# NEW_DEPARTURES = AIRPLANES_AT_TERMINAL - AIRPLANES_SCHEDULED_TO_LAND_TODAY #This is to indicate the airplanes which will depart the airspace after arriving today"
   ]
  },
  {
   "cell_type": "code",
   "execution_count": 4,
   "metadata": {
    "id": "eb7c5a87"
   },
   "outputs": [],
   "source": [
    "class Runnway(object):\n",
    "    def __init__(self, env, num_runway):\n",
    "        self.env = env\n",
    "        self.runway = simpy.Resource(env, num_runway)\n",
    "\n",
    "    def occupy(self, occupy_time): #function indicating whether runway is occupied or idle\n",
    "        yield self.env.timeout(occupy_time)"
   ]
  },
  {
   "cell_type": "code",
   "execution_count": 5,
   "metadata": {
    "id": "99632fd6"
   },
   "outputs": [],
   "source": [
    "class Airplane(object):\n",
    "    def __init__(self, env, name, rw, takeoff_time, land_time):\n",
    "        self.env = env\n",
    "        self.rw = rw\n",
    "        self.name = name\n",
    "        self.takeoff_time = takeoff_time\n",
    "        self.land_time = land_time\n",
    "        self.passager = 180 #90% capacity\n",
    "        self.late = False #check if the airplane is late (default is False)\n",
    "        self.status = False #Status of Takeoff\n",
    "        \n",
    "    def takeOff(self):\n",
    "        self.status = True\n",
    "        print('%s ready to take off at %.2f.' % (self.name, env.now))\n",
    "        with self.rw.runway.request() as request:\n",
    "            yield request\n",
    "            print('%s enters the runway at %.2f.' % (self.name, env.now))\n",
    "            yield env.process(self.rw.occupy(self.takeoff_time))\n",
    "            print('%s leaves the Airport at %.2f.' % (self.name, env.now))\n",
    "        \n",
    "    def land(self):\n",
    "        print('%s ready to land %.2f.' % (self.name, env.now))\n",
    "        with self.rw.runway.request() as request:\n",
    "            yield request\n",
    "            print('%s enters the runway at %.2f.' % (self.name, env.now))\n",
    "            yield env.process(self.rw.occupy(self.land_time))\n",
    "            print('%s leaves the runway at %.2f. and enters the terminal' % (self.name, env.now))\n",
    "            self.status = True\n",
    "        \n",
    "        yield env.timeout(TIME_ON_GROUND)\n",
    "        with self.rw.runway.request() as request:\n",
    "            yield request\n",
    "            print('%s leaves the terminal and enters the runway at %.2f.' % (self.name, env.now))\n",
    "            yield env.process(self.rw.occupy(self.takeoff_time))\n",
    "            print('%s leaves the Airport at %.2f.' % (self.name, env.now))\n",
    "\n",
    "\n",
    "    def schedule(self, time):\n",
    "        yield env.timeout(time)\n",
    "        # Skip if the plane has already taken off\n",
    "        if self.status:\n",
    "            pass\n",
    "        # Only those with more than 180 boardings are allowed to take off\n",
    "        if self.passager >= 180:\n",
    "            # ready to take off \n",
    "            env.process(self.takeOff())\n",
    "        else:\n",
    "            print('%s late at %.2f.' % (self.name, env.now))\n",
    "            self.late = True\n",
    "            \n",
    "    def boarding(self, passager_num):\n",
    "        if self.passager < 200:\n",
    "            self.passager += passager_num\n"
   ]
  },
  {
   "cell_type": "code",
   "execution_count": 6,
   "metadata": {
    "id": "5a96f347"
   },
   "outputs": [],
   "source": [
    "# Schedule the flight departure time\n",
    "class Departure_Table(object):\n",
    "    def __init__(self, env, num_airplane, time_interval, runway):\n",
    "        self.num_airplane = num_airplane\n",
    "        self.time_interval = time_interval\n",
    "        self.runway = runway\n",
    "        self.airplanes = []\n",
    "    \n",
    "    def schedule(self):\n",
    "        for i in range(self.num_airplane):\n",
    "            airplane = Airplane(env, 'Depart_airplane %d' % i, self.runway, TAKEOFFTIME, LANDTIME)\n",
    "            self.airplanes.append(airplane)\n",
    "            env.process(airplane.schedule( i * self.time_interval))\n"
   ]
  },
  {
   "cell_type": "code",
   "execution_count": 7,
   "metadata": {
    "id": "14a6002f"
   },
   "outputs": [],
   "source": [
    "# Schedule the flight land time\n",
    "class Land_Table(object):\n",
    "    def __init__(self, env, num_airplane, time_interval, runway):\n",
    "        self.num_airplane = num_airplane\n",
    "        self.time_interval = time_interval\n",
    "        self.runway = runway\n",
    "        self.airplanes = []\n",
    "    \n",
    "    def schedule(self):\n",
    "        for i in range(self.num_airplane):\n",
    "            yield env.timeout(self.time_interval)\n",
    "            airplane = Airplane(env, 'Land_airplane %d' % i, self.runway, TAKEOFFTIME, LANDTIME)\n",
    "            self.airplanes.append(airplane)\n",
    "            env.process(airplane.land())\n"
   ]
  },
  {
   "cell_type": "code",
   "execution_count": 8,
   "metadata": {
    "colab": {
     "base_uri": "https://localhost:8080/"
    },
    "id": "fa36293c",
    "outputId": "f347396e-9dec-4971-dec4-cedabb33f86a"
   },
   "outputs": [
    {
     "name": "stdout",
     "output_type": "stream",
     "text": [
      "Airport Runway Traffic Simulation\n",
      "Depart_airplane 0 ready to take off at 0.00.\n",
      "Depart_airplane 0 enters the runway at 0.00.\n",
      "Depart_airplane 0 leaves the Airport at 5.00.\n",
      "Depart_airplane 1 ready to take off at 10.00.\n",
      "Land_airplane 0 ready to land 10.00.\n",
      "Depart_airplane 1 enters the runway at 10.00.\n",
      "Depart_airplane 1 leaves the Airport at 15.00.\n",
      "Land_airplane 0 enters the runway at 15.00.\n",
      "Depart_airplane 2 ready to take off at 20.00.\n",
      "Land_airplane 1 ready to land 20.00.\n",
      "Land_airplane 0 leaves the runway at 21.00. and enters the terminal\n",
      "Depart_airplane 2 enters the runway at 21.00.\n",
      "Depart_airplane 2 leaves the Airport at 26.00.\n",
      "Land_airplane 1 enters the runway at 26.00.\n",
      "Depart_airplane 3 ready to take off at 30.00.\n",
      "Land_airplane 2 ready to land 30.00.\n",
      "Land_airplane 1 leaves the runway at 32.00. and enters the terminal\n",
      "Depart_airplane 3 enters the runway at 32.00.\n",
      "Depart_airplane 3 leaves the Airport at 37.00.\n",
      "Land_airplane 2 enters the runway at 37.00.\n",
      "Depart_airplane 4 ready to take off at 40.00.\n",
      "Land_airplane 3 ready to land 40.00.\n",
      "Land_airplane 2 leaves the runway at 43.00. and enters the terminal\n",
      "Depart_airplane 4 enters the runway at 43.00.\n",
      "Depart_airplane 4 leaves the Airport at 48.00.\n",
      "Land_airplane 3 enters the runway at 48.00.\n",
      "Land_airplane 4 ready to land 50.00.\n",
      "Land_airplane 3 leaves the runway at 54.00. and enters the terminal\n",
      "Land_airplane 4 enters the runway at 54.00.\n",
      "Land_airplane 5 ready to land 60.00.\n",
      "Land_airplane 4 leaves the runway at 60.00. and enters the terminal\n",
      "Land_airplane 5 enters the runway at 60.00.\n",
      "Land_airplane 5 leaves the runway at 66.00. and enters the terminal\n",
      "Land_airplane 0 leaves the terminal and enters the runway at 66.00.\n",
      "Land_airplane 6 ready to land 70.00.\n",
      "Land_airplane 0 leaves the Airport at 71.00.\n",
      "Land_airplane 6 enters the runway at 71.00.\n",
      "Land_airplane 6 leaves the runway at 77.00. and enters the terminal\n",
      "Land_airplane 1 leaves the terminal and enters the runway at 77.00.\n",
      "Land_airplane 7 ready to land 80.00.\n",
      "Land_airplane 1 leaves the Airport at 82.00.\n",
      "Land_airplane 7 enters the runway at 82.00.\n",
      "Land_airplane 7 leaves the runway at 88.00. and enters the terminal\n",
      "Land_airplane 2 leaves the terminal and enters the runway at 88.00.\n",
      "Land_airplane 8 ready to land 90.00.\n",
      "Land_airplane 2 leaves the Airport at 93.00.\n",
      "Land_airplane 8 enters the runway at 93.00.\n",
      "Land_airplane 8 leaves the runway at 99.00. and enters the terminal\n",
      "Land_airplane 3 leaves the terminal and enters the runway at 99.00.\n",
      "Land_airplane 9 ready to land 100.00.\n",
      "Land_airplane 3 leaves the Airport at 104.00.\n",
      "Land_airplane 9 enters the runway at 104.00.\n",
      "Land_airplane 9 leaves the runway at 110.00. and enters the terminal\n",
      "Land_airplane 4 leaves the terminal and enters the runway at 110.00.\n",
      "Land_airplane 4 leaves the Airport at 115.00.\n",
      "Land_airplane 5 leaves the terminal and enters the runway at 115.00.\n",
      "Land_airplane 5 leaves the Airport at 120.00.\n",
      "Land_airplane 6 leaves the terminal and enters the runway at 122.00.\n",
      "Land_airplane 6 leaves the Airport at 127.00.\n",
      "Land_airplane 7 leaves the terminal and enters the runway at 133.00.\n",
      "Land_airplane 7 leaves the Airport at 138.00.\n",
      "Land_airplane 8 leaves the terminal and enters the runway at 144.00.\n",
      "Land_airplane 8 leaves the Airport at 149.00.\n",
      "Land_airplane 9 leaves the terminal and enters the runway at 155.00.\n",
      "Land_airplane 9 leaves the Airport at 160.00.\n"
     ]
    }
   ],
   "source": [
    "def ATF(env):\n",
    "    runway = Runnway(env, NUM_RUNWAY) #Creating runway object\n",
    "    \n",
    "    departure_Table = Departure_Table(env, AIRPLANES_AT_TERMINAL, DEPARTURE_INTER, runway)\n",
    "    departure_Table.schedule()\n",
    "    \n",
    "    land_Table = Land_Table(env, AIRPLANES_SCHEDULED_TO_LAND_TODAY, LAND_INTER, runway)\n",
    "    env.process(land_Table.schedule())\n",
    "    \n",
    "    while True:\n",
    "        # Every 1 time step, check whether the flights that are not on time can take off\n",
    "        yield env.timeout(1)\n",
    "        for plane in departure_Table.airplanes:\n",
    "            if plane.status == False:\n",
    "                if plane.late and plane.passager > 180:\n",
    "                    env.process(plane.takeOff())\n",
    "        \n",
    "        \n",
    "# Setup and start the simulation\n",
    "print('Airport Runway Traffic Simulation')\n",
    "random.seed(RANDOM_SEED)  # This helps reproducing the results\n",
    "\n",
    "# Create an environment and start the setup process\n",
    "env = simpy.Environment()\n",
    "env.process(ATF(env))\n",
    "\n",
    "# Execute!\n",
    "env.run(1000)"
   ]
  }
 ],
 "metadata": {
  "colab": {
   "collapsed_sections": [],
   "name": "Airport traffic flow sim - updated.ipynb",
   "provenance": []
  },
  "kernelspec": {
   "display_name": "Python 3",
   "language": "python",
   "name": "python3"
  },
  "language_info": {
   "codemirror_mode": {
    "name": "ipython",
    "version": 3
   },
   "file_extension": ".py",
   "mimetype": "text/x-python",
   "name": "python",
   "nbconvert_exporter": "python",
   "pygments_lexer": "ipython3",
   "version": "3.8.5"
  }
 },
 "nbformat": 4,
 "nbformat_minor": 5
}
